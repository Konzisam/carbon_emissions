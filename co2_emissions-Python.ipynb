{
 "cells": [
  {
   "cell_type": "code",
   "execution_count": 1,
   "id": "70ec7f74",
   "metadata": {},
   "outputs": [],
   "source": [
    "import pandas as pd\n",
    "import numpy as np\n",
    "from time import time"
   ]
  },
  {
   "cell_type": "code",
   "execution_count": 2,
   "id": "e61483d0",
   "metadata": {},
   "outputs": [],
   "source": [
    "df = pd.read_csv('carbon_data/data.csv', low_memory = False)"
   ]
  },
  {
   "cell_type": "markdown",
   "id": "621714ef",
   "metadata": {},
   "source": [
    "We specified memory false to suppress 'DtypeWarning', but then we further look in to the data to fix the mixed data types"
   ]
  },
  {
   "cell_type": "code",
   "execution_count": 4,
   "id": "4c6c7ac7",
   "metadata": {},
   "outputs": [
    {
     "data": {
      "text/plain": [
       "(9920108, 38)"
      ]
     },
     "execution_count": 4,
     "metadata": {},
     "output_type": "execute_result"
    }
   ],
   "source": [
    "df.shape"
   ]
  },
  {
   "cell_type": "code",
   "execution_count": 5,
   "id": "a0fae44b",
   "metadata": {},
   "outputs": [
    {
     "data": {
      "text/plain": [
       "Index(['ID', 'Country', 'VFN', 'Mp', 'Mh', 'Man', 'MMS', 'Tan', 'T', 'Va',\n",
       "       'Ve', 'Mk', 'Cn', 'Ct', 'Cr', 'r', 'm (kg)', 'Mt', 'Enedc (g/km)',\n",
       "       'Ewltp (g/km)', 'W (mm)', 'At1 (mm)', 'At2 (mm)', 'Ft', 'Fm',\n",
       "       'ec (cm3)', 'ep (KW)', 'z (Wh/km)', 'IT', 'Ernedc (g/km)',\n",
       "       'Erwltp (g/km)', 'De', 'Vf', 'Status', 'year', 'Date of registration',\n",
       "       'Fuel consumption ', 'Electric range (km)'],\n",
       "      dtype='object')"
      ]
     },
     "execution_count": 5,
     "metadata": {},
     "output_type": "execute_result"
    }
   ],
   "source": [
    "df.columns"
   ]
  },
  {
   "cell_type": "code",
   "execution_count": 6,
   "id": "37db4f2a",
   "metadata": {},
   "outputs": [
    {
     "data": {
      "text/html": [
       "<div>\n",
       "<style scoped>\n",
       "    .dataframe tbody tr th:only-of-type {\n",
       "        vertical-align: middle;\n",
       "    }\n",
       "\n",
       "    .dataframe tbody tr th {\n",
       "        vertical-align: top;\n",
       "    }\n",
       "\n",
       "    .dataframe thead th {\n",
       "        text-align: right;\n",
       "    }\n",
       "</style>\n",
       "<table border=\"1\" class=\"dataframe\">\n",
       "  <thead>\n",
       "    <tr style=\"text-align: right;\">\n",
       "      <th></th>\n",
       "      <th>ID</th>\n",
       "      <th>Country</th>\n",
       "      <th>VFN</th>\n",
       "      <th>Mp</th>\n",
       "      <th>Mh</th>\n",
       "      <th>Man</th>\n",
       "      <th>MMS</th>\n",
       "      <th>Tan</th>\n",
       "      <th>T</th>\n",
       "      <th>Va</th>\n",
       "      <th>...</th>\n",
       "      <th>IT</th>\n",
       "      <th>Ernedc (g/km)</th>\n",
       "      <th>Erwltp (g/km)</th>\n",
       "      <th>De</th>\n",
       "      <th>Vf</th>\n",
       "      <th>Status</th>\n",
       "      <th>year</th>\n",
       "      <th>Date of registration</th>\n",
       "      <th>Fuel consumption</th>\n",
       "      <th>Electric range (km)</th>\n",
       "    </tr>\n",
       "  </thead>\n",
       "  <tbody>\n",
       "    <tr>\n",
       "      <th>0</th>\n",
       "      <td>57566673</td>\n",
       "      <td>IS</td>\n",
       "      <td>IP-01-JMB-2018-0001</td>\n",
       "      <td>RENAULT-NISSAN-MITSUBISHI</td>\n",
       "      <td>MITSUBISHI MOTORS CORPORATION</td>\n",
       "      <td>MITSUBISHI MOTORS CORPORATION</td>\n",
       "      <td>NaN</td>\n",
       "      <td>E1*2001/116*0406*32</td>\n",
       "      <td>CW0</td>\n",
       "      <td>GGP21</td>\n",
       "      <td>...</td>\n",
       "      <td>NaN</td>\n",
       "      <td>NaN</td>\n",
       "      <td>NaN</td>\n",
       "      <td>NaN</td>\n",
       "      <td>NaN</td>\n",
       "      <td>P</td>\n",
       "      <td>2021</td>\n",
       "      <td>2021-03-24</td>\n",
       "      <td>NaN</td>\n",
       "      <td>45.0</td>\n",
       "    </tr>\n",
       "    <tr>\n",
       "      <th>1</th>\n",
       "      <td>57566674</td>\n",
       "      <td>IS</td>\n",
       "      <td>IP-01-JMB-2018-0001</td>\n",
       "      <td>RENAULT-NISSAN-MITSUBISHI</td>\n",
       "      <td>MITSUBISHI MOTORS CORPORATION</td>\n",
       "      <td>MITSUBISHI MOTORS CORPORATION</td>\n",
       "      <td>NaN</td>\n",
       "      <td>E1*2001/116*0406*32</td>\n",
       "      <td>CW0</td>\n",
       "      <td>GGP21</td>\n",
       "      <td>...</td>\n",
       "      <td>NaN</td>\n",
       "      <td>NaN</td>\n",
       "      <td>NaN</td>\n",
       "      <td>NaN</td>\n",
       "      <td>NaN</td>\n",
       "      <td>P</td>\n",
       "      <td>2021</td>\n",
       "      <td>2021-03-24</td>\n",
       "      <td>NaN</td>\n",
       "      <td>45.0</td>\n",
       "    </tr>\n",
       "    <tr>\n",
       "      <th>2</th>\n",
       "      <td>57566675</td>\n",
       "      <td>IS</td>\n",
       "      <td>IP-01-JMB-2018-0001</td>\n",
       "      <td>RENAULT-NISSAN-MITSUBISHI</td>\n",
       "      <td>MITSUBISHI MOTORS CORPORATION</td>\n",
       "      <td>MITSUBISHI MOTORS CORPORATION</td>\n",
       "      <td>NaN</td>\n",
       "      <td>E1*2001/116*0406*32</td>\n",
       "      <td>CW0</td>\n",
       "      <td>GGP21</td>\n",
       "      <td>...</td>\n",
       "      <td>NaN</td>\n",
       "      <td>NaN</td>\n",
       "      <td>NaN</td>\n",
       "      <td>NaN</td>\n",
       "      <td>NaN</td>\n",
       "      <td>P</td>\n",
       "      <td>2021</td>\n",
       "      <td>2021-03-23</td>\n",
       "      <td>NaN</td>\n",
       "      <td>45.0</td>\n",
       "    </tr>\n",
       "    <tr>\n",
       "      <th>3</th>\n",
       "      <td>57566676</td>\n",
       "      <td>IS</td>\n",
       "      <td>IP-01-JMB-2018-0001</td>\n",
       "      <td>RENAULT-NISSAN-MITSUBISHI</td>\n",
       "      <td>MITSUBISHI MOTORS CORPORATION</td>\n",
       "      <td>MITSUBISHI MOTORS CORPORATION</td>\n",
       "      <td>NaN</td>\n",
       "      <td>E1*2001/116*0406*32</td>\n",
       "      <td>CW0</td>\n",
       "      <td>GGP21</td>\n",
       "      <td>...</td>\n",
       "      <td>NaN</td>\n",
       "      <td>NaN</td>\n",
       "      <td>NaN</td>\n",
       "      <td>NaN</td>\n",
       "      <td>NaN</td>\n",
       "      <td>P</td>\n",
       "      <td>2021</td>\n",
       "      <td>2021-03-23</td>\n",
       "      <td>NaN</td>\n",
       "      <td>45.0</td>\n",
       "    </tr>\n",
       "    <tr>\n",
       "      <th>4</th>\n",
       "      <td>57566677</td>\n",
       "      <td>IS</td>\n",
       "      <td>IP-01-JMB-2018-0001</td>\n",
       "      <td>RENAULT-NISSAN-MITSUBISHI</td>\n",
       "      <td>MITSUBISHI MOTORS CORPORATION</td>\n",
       "      <td>MITSUBISHI MOTORS CORPORATION</td>\n",
       "      <td>NaN</td>\n",
       "      <td>E1*2001/116*0406*32</td>\n",
       "      <td>CW0</td>\n",
       "      <td>GGP21</td>\n",
       "      <td>...</td>\n",
       "      <td>NaN</td>\n",
       "      <td>NaN</td>\n",
       "      <td>NaN</td>\n",
       "      <td>NaN</td>\n",
       "      <td>NaN</td>\n",
       "      <td>P</td>\n",
       "      <td>2021</td>\n",
       "      <td>2021-03-19</td>\n",
       "      <td>NaN</td>\n",
       "      <td>45.0</td>\n",
       "    </tr>\n",
       "  </tbody>\n",
       "</table>\n",
       "<p>5 rows × 38 columns</p>\n",
       "</div>"
      ],
      "text/plain": [
       "         ID Country                  VFN                         Mp  \\\n",
       "0  57566673      IS  IP-01-JMB-2018-0001  RENAULT-NISSAN-MITSUBISHI   \n",
       "1  57566674      IS  IP-01-JMB-2018-0001  RENAULT-NISSAN-MITSUBISHI   \n",
       "2  57566675      IS  IP-01-JMB-2018-0001  RENAULT-NISSAN-MITSUBISHI   \n",
       "3  57566676      IS  IP-01-JMB-2018-0001  RENAULT-NISSAN-MITSUBISHI   \n",
       "4  57566677      IS  IP-01-JMB-2018-0001  RENAULT-NISSAN-MITSUBISHI   \n",
       "\n",
       "                              Mh                            Man  MMS  \\\n",
       "0  MITSUBISHI MOTORS CORPORATION  MITSUBISHI MOTORS CORPORATION  NaN   \n",
       "1  MITSUBISHI MOTORS CORPORATION  MITSUBISHI MOTORS CORPORATION  NaN   \n",
       "2  MITSUBISHI MOTORS CORPORATION  MITSUBISHI MOTORS CORPORATION  NaN   \n",
       "3  MITSUBISHI MOTORS CORPORATION  MITSUBISHI MOTORS CORPORATION  NaN   \n",
       "4  MITSUBISHI MOTORS CORPORATION  MITSUBISHI MOTORS CORPORATION  NaN   \n",
       "\n",
       "                   Tan    T     Va  ...   IT Ernedc (g/km) Erwltp (g/km)  De  \\\n",
       "0  E1*2001/116*0406*32  CW0  GGP21  ...  NaN           NaN           NaN NaN   \n",
       "1  E1*2001/116*0406*32  CW0  GGP21  ...  NaN           NaN           NaN NaN   \n",
       "2  E1*2001/116*0406*32  CW0  GGP21  ...  NaN           NaN           NaN NaN   \n",
       "3  E1*2001/116*0406*32  CW0  GGP21  ...  NaN           NaN           NaN NaN   \n",
       "4  E1*2001/116*0406*32  CW0  GGP21  ...  NaN           NaN           NaN NaN   \n",
       "\n",
       "   Vf  Status  year  Date of registration  Fuel consumption   \\\n",
       "0 NaN       P  2021            2021-03-24                NaN   \n",
       "1 NaN       P  2021            2021-03-24                NaN   \n",
       "2 NaN       P  2021            2021-03-23                NaN   \n",
       "3 NaN       P  2021            2021-03-23                NaN   \n",
       "4 NaN       P  2021            2021-03-19                NaN   \n",
       "\n",
       "   Electric range (km)  \n",
       "0                 45.0  \n",
       "1                 45.0  \n",
       "2                 45.0  \n",
       "3                 45.0  \n",
       "4                 45.0  \n",
       "\n",
       "[5 rows x 38 columns]"
      ]
     },
     "execution_count": 6,
     "metadata": {},
     "output_type": "execute_result"
    }
   ],
   "source": [
    "df.head()"
   ]
  },
  {
   "cell_type": "code",
   "execution_count": 8,
   "id": "f5134e4f",
   "metadata": {},
   "outputs": [],
   "source": [
    "#Rename columns\n",
    "cols = {'VFN':'Vehicle_Family_ID', \n",
    "         'Mp':'Pool', \n",
    "         'Mh':'Manufacturer_EU',\n",
    "         'Man':'Manufacturer_OEM',\n",
    "         'MMS': 'Manufacturer_MS',\n",
    "         'Tan':'TA_number',\n",
    "         'T':'Type', \n",
    "        'Va':'Variant', \n",
    "         'Ve':'Version', \n",
    "        'Mk':'Make',\n",
    "         'Cn':'Commercial_Name',\n",
    "         'Ct':'Category_A', \n",
    "         'Cr':'Category_R', \n",
    "         'r':'Total_registrations', \n",
    "         'm (kg)':'Mass_RO',\n",
    "         'Mt':'WLTP_test_mass',\n",
    "         'Enedc (g/km)':'Emissions_NEDC',\n",
    "         'Ewltp (g/km)':'Emissions_WLTP', \n",
    "         'W (mm)':'Wheel_base', \n",
    "         'At1 (mm)':'Axle_width_steering',\n",
    "         'At2 (mm)':'Axle_width_other', \n",
    "         'Ft':'Fuel_type', \n",
    "         'Fm':'Fuel_mode',\n",
    "         'ec (cm3)':'Engine_capacity',\n",
    "         'ep (KW)':'Engine_power', \n",
    "         'z (Wh/km)':'Electricity_consumption', \n",
    "         'IT':'Emission_reduction_IT', \n",
    "         'Ernedc (g/km)':'Emission_reduction_NEDC',\n",
    "         'Erwltp (g/km)':'Emission_reduction_WLTP',  \n",
    "         'De':'Deviation_factor',   \n",
    "         'Vf':'Verification_factor',\n",
    "         'Status':'Type_of_data',   \n",
    "         'year':'Registration_year',\n",
    "        'Date of registration':'Registration_date',\n",
    "        'Fuel consumption ':'Fuel_consumption', \n",
    "         'Electric range (km)':'Electric_range'}"
   ]
  },
  {
   "cell_type": "code",
   "execution_count": 9,
   "id": "b7835d9c",
   "metadata": {},
   "outputs": [],
   "source": [
    "#Rename columns with suitable names\n",
    "df.rename(columns=cols, inplace =True)"
   ]
  },
  {
   "cell_type": "code",
   "execution_count": 11,
   "id": "e2346400",
   "metadata": {},
   "outputs": [
    {
     "data": {
      "text/plain": [
       "ID                           int64\n",
       "Country                     object\n",
       "Vehicle_Family_ID           object\n",
       "Pool                        object\n",
       "Manufacturer_EU             object\n",
       "Manufacturer_OEM            object\n",
       "Manufacturer_MS            float64\n",
       "TA_number                   object\n",
       "Type                        object\n",
       "Variant                     object\n",
       "Version                     object\n",
       "Make                        object\n",
       "Commercial_Name             object\n",
       "Category_A                  object\n",
       "Category_R                  object\n",
       "Total_registrations          int64\n",
       "Mass_RO                    float64\n",
       "WLTP_test_mass             float64\n",
       "Emissions_NEDC             float64\n",
       "Emissions_WLTP             float64\n",
       "Wheel_base                 float64\n",
       "Axle_width_steering        float64\n",
       "Axle_width_other           float64\n",
       "Fuel_type                   object\n",
       "Fuel_mode                   object\n",
       "Engine_capacity            float64\n",
       "Engine_power               float64\n",
       "Electricity_consumption    float64\n",
       "Emission_reduction_IT       object\n",
       "Emission_reduction_NEDC    float64\n",
       "Emission_reduction_WLTP    float64\n",
       "Deviation_factor           float64\n",
       "Verification_factor        float64\n",
       "Type_of_data                object\n",
       "Registration_year            int64\n",
       "Registration_date           object\n",
       "Fuel_consumption           float64\n",
       "Electric_range             float64\n",
       "dtype: object"
      ]
     },
     "execution_count": 11,
     "metadata": {},
     "output_type": "execute_result"
    }
   ],
   "source": [
    "df.dtypes"
   ]
  },
  {
   "cell_type": "code",
   "execution_count": 12,
   "id": "76cf035c",
   "metadata": {},
   "outputs": [
    {
     "data": {
      "text/plain": [
       "29"
      ]
     },
     "execution_count": 12,
     "metadata": {},
     "output_type": "execute_result"
    }
   ],
   "source": [
    "#Number of countries in dataset\n",
    "len(df.Country.unique())"
   ]
  },
  {
   "cell_type": "code",
   "execution_count": 23,
   "id": "68904238",
   "metadata": {},
   "outputs": [
    {
     "name": "stdout",
     "output_type": "stream",
     "text": [
      "Vehicle_Family_ID : [<class 'str'> <class 'float'>]\n",
      "Pool : [<class 'str'> <class 'float'>]\n",
      "TA_number : [<class 'str'> <class 'float'>]\n",
      "Type : [<class 'str'> <class 'float'>]\n",
      "Variant : [<class 'str'> <class 'float'>]\n",
      "Version : [<class 'str'> <class 'float'>]\n",
      "Make : [<class 'str'> <class 'float'>]\n",
      "Commercial_Name : [<class 'str'> <class 'float'>]\n",
      "Category_A : [<class 'str'> <class 'float'>]\n",
      "Fuel_mode : [<class 'str'> <class 'float'>]\n",
      "Emission_reduction_IT : [<class 'float'> <class 'str'>]\n",
      "Registration_date : [<class 'pandas._libs.tslibs.timestamps.Timestamp'>\n",
      " <class 'pandas._libs.tslibs.nattype.NaTType'>]\n"
     ]
    }
   ],
   "source": [
    "#Find columns with multiple data types(more than 1)\n",
    "mixed_datatypes_cols = []\n",
    "\n",
    "for col in df.columns:\n",
    "    unique_types = df[col].apply(type).unique()\n",
    "    if len(unique_types) > 1:\n",
    "        print(col,':', unique_types)\n",
    "        mixed_datatypes_cols.append(col)"
   ]
  },
  {
   "cell_type": "code",
   "execution_count": 15,
   "id": "d6cd41e9",
   "metadata": {},
   "outputs": [
    {
     "data": {
      "text/plain": [
       "[dtype('O'),\n",
       " dtype('O'),\n",
       " dtype('O'),\n",
       " dtype('O'),\n",
       " dtype('O'),\n",
       " dtype('O'),\n",
       " dtype('O'),\n",
       " dtype('O'),\n",
       " dtype('O'),\n",
       " dtype('O'),\n",
       " dtype('O'),\n",
       " dtype('O')]"
      ]
     },
     "execution_count": 15,
     "metadata": {},
     "output_type": "execute_result"
    }
   ],
   "source": [
    "# Check the datatypes for cumns with mixed data types\n",
    "[(df[col].dtype) for col in mixed_datatypes_cols]"
   ]
  },
  {
   "cell_type": "code",
   "execution_count": 16,
   "id": "b2c79bf5",
   "metadata": {},
   "outputs": [],
   "source": [
    "df['Registration_date'] = pd.to_datetime(df['Registration_date'])"
   ]
  },
  {
   "cell_type": "markdown",
   "id": "7dcf6e7d",
   "metadata": {},
   "source": [
    "All columns except 'Registration_date' which is a date, were parsed  to strings correctly but it seems NaNs introduce floats."
   ]
  },
  {
   "cell_type": "code",
   "execution_count": 19,
   "id": "03c4f6fd",
   "metadata": {},
   "outputs": [],
   "source": [
    "# %%time\n",
    "# for col in df.columns:\n",
    "#     weird = (df[[col]].applymap(type) != df[[col]].iloc[0].apply(type)).any(axis=1)\n",
    "#     if len(df[weird]) > 0:\n",
    "#         print(col)"
   ]
  },
  {
   "cell_type": "code",
   "execution_count": 20,
   "id": "cfe998dd",
   "metadata": {},
   "outputs": [
    {
     "name": "stdout",
     "output_type": "stream",
     "text": [
      "All floats in Vehicle_Family_ID are non null\n",
      "All floats in Pool are non null\n",
      "All floats in TA_number are non null\n",
      "All floats in Type are non null\n",
      "All floats in Variant are non null\n",
      "All floats in Version are non null\n",
      "All floats in Make are non null\n",
      "All floats in Commercial_Name are non null\n",
      "All floats in Category_A are non null\n",
      "All floats in Fuel_mode are non null\n",
      "All floats in Emission_reduction_IT are non null\n",
      "Registration_date\n"
     ]
    }
   ],
   "source": [
    "# Check for non null floats\n",
    "for col in mixed_datatypes_cols:\n",
    "    all_floats = (df[[col]].applymap(type) != str).squeeze()\n",
    "    non_null_floats = df[col][all_floats][~df[col][all_floats].isna()]\n",
    "    if len(non_null_floats) > 0:\n",
    "        print(col)\n",
    "    else:\n",
    "        print(f'All floats in {col} are non null')"
   ]
  },
  {
   "cell_type": "markdown",
   "id": "1f12ca64",
   "metadata": {},
   "source": [
    "We take note of the Registration_date column"
   ]
  },
  {
   "cell_type": "code",
   "execution_count": 19,
   "id": "59f2937b",
   "metadata": {},
   "outputs": [
    {
     "data": {
      "text/plain": [
       "9485   NaT\n",
       "9486   NaT\n",
       "9487   NaT\n",
       "9488   NaT\n",
       "9489   NaT\n",
       "Name: Registration_date, dtype: datetime64[ns]"
      ]
     },
     "execution_count": 19,
     "metadata": {},
     "output_type": "execute_result"
    }
   ],
   "source": [
    "#Check for floats which are non nulls in date\n",
    "all_floats = (df[['Registration_date']].applymap(type) != df[['Registration_date']].iloc[0].apply(type)).squeeze()\n",
    "non_null_floats = df['Registration_date'][all_floats][df['Registration_date'][all_floats].isna()]\n",
    "non_null_floats.head()"
   ]
  },
  {
   "cell_type": "code",
   "execution_count": 21,
   "id": "a1f242d2",
   "metadata": {},
   "outputs": [
    {
     "data": {
      "text/plain": [
       "True"
      ]
     },
     "execution_count": 21,
     "metadata": {},
     "output_type": "execute_result"
    }
   ],
   "source": [
    "# Confirm pandas treats NaT as null\n",
    "pd.isnull(pd.NaT)"
   ]
  },
  {
   "cell_type": "code",
   "execution_count": 17,
   "id": "10f716ef",
   "metadata": {},
   "outputs": [
    {
     "data": {
      "text/plain": [
       "0"
      ]
     },
     "execution_count": 17,
     "metadata": {},
     "output_type": "execute_result"
    }
   ],
   "source": [
    "sum(df.Registration_date.map(type) == pd.NaT)"
   ]
  },
  {
   "cell_type": "code",
   "execution_count": 24,
   "id": "f46dae45",
   "metadata": {},
   "outputs": [
    {
     "data": {
      "text/plain": [
       "['Vehicle_Family_ID',\n",
       " 'Pool',\n",
       " 'TA_number',\n",
       " 'Type',\n",
       " 'Variant',\n",
       " 'Version',\n",
       " 'Make',\n",
       " 'Commercial_Name',\n",
       " 'Category_A',\n",
       " 'Fuel_mode',\n",
       " 'Emission_reduction_IT',\n",
       " 'Registration_date']"
      ]
     },
     "execution_count": 24,
     "metadata": {},
     "output_type": "execute_result"
    }
   ],
   "source": [
    "mixed_datatypes_cols"
   ]
  },
  {
   "cell_type": "markdown",
   "id": "e60ff85a",
   "metadata": {},
   "source": [
    "They are all null dates, which is fine. They wont throw an error anymore when trying to save the dataframe"
   ]
  },
  {
   "cell_type": "code",
   "execution_count": 23,
   "id": "9e8649a8",
   "metadata": {},
   "outputs": [],
   "source": [
    "#Fill all mixed datatypes except Registration date with empty string\n",
    "df[mixed_datatypes_cols] = df[mixed_datatypes_cols].fillna('')"
   ]
  },
  {
   "cell_type": "code",
   "execution_count": 25,
   "id": "ffb90123",
   "metadata": {},
   "outputs": [
    {
     "name": "stdout",
     "output_type": "stream",
     "text": [
      "Vehicle_Family_ID [<class 'str'> <class 'float'>]\n",
      "Pool [<class 'str'> <class 'float'>]\n",
      "TA_number [<class 'str'> <class 'float'>]\n",
      "Type [<class 'str'> <class 'float'>]\n",
      "Variant [<class 'str'> <class 'float'>]\n",
      "Version [<class 'str'> <class 'float'>]\n",
      "Make [<class 'str'> <class 'float'>]\n",
      "Commercial_Name [<class 'str'> <class 'float'>]\n",
      "Category_A [<class 'str'> <class 'float'>]\n",
      "Fuel_mode [<class 'str'> <class 'float'>]\n",
      "Emission_reduction_IT [<class 'float'> <class 'str'>]\n",
      "Registration_date [<class 'pandas._libs.tslibs.timestamps.Timestamp'>\n",
      " <class 'pandas._libs.tslibs.nattype.NaTType'>]\n"
     ]
    }
   ],
   "source": [
    "for col in df.columns:\n",
    "    unique_types = df[col].apply(type).unique()\n",
    "    if len(unique_types) > 1:\n",
    "        print(col, unique_types)\n",
    "        mixed_datatypes_cols.append(col)"
   ]
  },
  {
   "cell_type": "code",
   "execution_count": 26,
   "id": "9df2e43f",
   "metadata": {},
   "outputs": [
    {
     "data": {
      "text/plain": [
       "array([<class 'pandas._libs.tslibs.timestamps.Timestamp'>,\n",
       "       <class 'pandas._libs.tslibs.nattype.NaTType'>], dtype=object)"
      ]
     },
     "execution_count": 26,
     "metadata": {},
     "output_type": "execute_result"
    }
   ],
   "source": [
    "df['Registration_date'].map(type).unique()"
   ]
  },
  {
   "cell_type": "code",
   "execution_count": 48,
   "id": "ba0202e7",
   "metadata": {},
   "outputs": [],
   "source": [
    "#df[['Fuel_mode','Emission_reduction_IT' ]] = df[['Fuel_mode','Emission_reduction_IT' ]].fillna('')"
   ]
  },
  {
   "cell_type": "code",
   "execution_count": 16,
   "id": "bd9a4425",
   "metadata": {},
   "outputs": [],
   "source": [
    "#df[['Registration_date']] = df['Registration_date'].fillna('', inplace=True) "
   ]
  },
  {
   "cell_type": "code",
   "execution_count": 25,
   "id": "e50488e6",
   "metadata": {},
   "outputs": [],
   "source": [
    "# The dataset is ready fro uploading to GCS\n",
    "df.to_parquet('emissions.parquet.gz',\n",
    "              compression='gzip')"
   ]
  },
  {
   "cell_type": "code",
   "execution_count": 22,
   "id": "b9641870",
   "metadata": {},
   "outputs": [],
   "source": [
    "import requests\n",
    "from bs4 import BeautifulSoup"
   ]
  },
  {
   "cell_type": "code",
   "execution_count": null,
   "id": "6790d48a",
   "metadata": {},
   "outputs": [],
   "source": [
    "https://www.iban.com/country-codes"
   ]
  },
  {
   "cell_type": "code",
   "execution_count": 68,
   "id": "052d773f",
   "metadata": {},
   "outputs": [],
   "source": [
    "html_data = requests.get('https://www.iban.com/country-codes').text"
   ]
  },
  {
   "cell_type": "code",
   "execution_count": 69,
   "id": "44f1478f",
   "metadata": {},
   "outputs": [],
   "source": [
    "soup = BeautifulSoup(html_data, \"html.parser\")\n",
    "data = pd.read_html(str(soup))"
   ]
  },
  {
   "cell_type": "code",
   "execution_count": 70,
   "id": "8811f826",
   "metadata": {},
   "outputs": [
    {
     "data": {
      "text/plain": [
       "[               Country Alpha-2 code Alpha-3 code  Numeric\n",
       " 0          Afghanistan           AF          AFG        4\n",
       " 1        Åland Islands           AX          ALA      248\n",
       " 2              Albania           AL          ALB        8\n",
       " 3              Algeria           DZ          DZA       12\n",
       " 4       American Samoa           AS          ASM       16\n",
       " ..                 ...          ...          ...      ...\n",
       " 244  Wallis and Futuna           WF          WLF      876\n",
       " 245     Western Sahara           EH          ESH      732\n",
       " 246              Yemen           YE          YEM      887\n",
       " 247             Zambia           ZM          ZMB      894\n",
       " 248           Zimbabwe           ZW          ZWE      716\n",
       " \n",
       " [249 rows x 4 columns]]"
      ]
     },
     "execution_count": 70,
     "metadata": {},
     "output_type": "execute_result"
    }
   ],
   "source": [
    "data"
   ]
  },
  {
   "cell_type": "code",
   "execution_count": 71,
   "id": "62c97468",
   "metadata": {},
   "outputs": [],
   "source": [
    " df_cities = data[0]"
   ]
  },
  {
   "cell_type": "code",
   "execution_count": 72,
   "id": "9e18de19",
   "metadata": {},
   "outputs": [],
   "source": [
    "df_cities.drop(columns =['Alpha-3 code','Numeric'],inplace= True)"
   ]
  },
  {
   "cell_type": "code",
   "execution_count": 73,
   "id": "3ffd8789",
   "metadata": {},
   "outputs": [],
   "source": [
    "df_cities.rename(columns={'Country':'Country_name', 'Alpha-2 code':'Country_code'},inplace = True)"
   ]
  },
  {
   "cell_type": "code",
   "execution_count": 74,
   "id": "69b87706",
   "metadata": {},
   "outputs": [
    {
     "data": {
      "text/html": [
       "<div>\n",
       "<style scoped>\n",
       "    .dataframe tbody tr th:only-of-type {\n",
       "        vertical-align: middle;\n",
       "    }\n",
       "\n",
       "    .dataframe tbody tr th {\n",
       "        vertical-align: top;\n",
       "    }\n",
       "\n",
       "    .dataframe thead th {\n",
       "        text-align: right;\n",
       "    }\n",
       "</style>\n",
       "<table border=\"1\" class=\"dataframe\">\n",
       "  <thead>\n",
       "    <tr style=\"text-align: right;\">\n",
       "      <th></th>\n",
       "      <th>Country_name</th>\n",
       "      <th>Country_code</th>\n",
       "    </tr>\n",
       "  </thead>\n",
       "  <tbody>\n",
       "    <tr>\n",
       "      <th>0</th>\n",
       "      <td>Afghanistan</td>\n",
       "      <td>AF</td>\n",
       "    </tr>\n",
       "    <tr>\n",
       "      <th>1</th>\n",
       "      <td>Åland Islands</td>\n",
       "      <td>AX</td>\n",
       "    </tr>\n",
       "    <tr>\n",
       "      <th>2</th>\n",
       "      <td>Albania</td>\n",
       "      <td>AL</td>\n",
       "    </tr>\n",
       "    <tr>\n",
       "      <th>3</th>\n",
       "      <td>Algeria</td>\n",
       "      <td>DZ</td>\n",
       "    </tr>\n",
       "    <tr>\n",
       "      <th>4</th>\n",
       "      <td>American Samoa</td>\n",
       "      <td>AS</td>\n",
       "    </tr>\n",
       "    <tr>\n",
       "      <th>...</th>\n",
       "      <td>...</td>\n",
       "      <td>...</td>\n",
       "    </tr>\n",
       "    <tr>\n",
       "      <th>244</th>\n",
       "      <td>Wallis and Futuna</td>\n",
       "      <td>WF</td>\n",
       "    </tr>\n",
       "    <tr>\n",
       "      <th>245</th>\n",
       "      <td>Western Sahara</td>\n",
       "      <td>EH</td>\n",
       "    </tr>\n",
       "    <tr>\n",
       "      <th>246</th>\n",
       "      <td>Yemen</td>\n",
       "      <td>YE</td>\n",
       "    </tr>\n",
       "    <tr>\n",
       "      <th>247</th>\n",
       "      <td>Zambia</td>\n",
       "      <td>ZM</td>\n",
       "    </tr>\n",
       "    <tr>\n",
       "      <th>248</th>\n",
       "      <td>Zimbabwe</td>\n",
       "      <td>ZW</td>\n",
       "    </tr>\n",
       "  </tbody>\n",
       "</table>\n",
       "<p>249 rows × 2 columns</p>\n",
       "</div>"
      ],
      "text/plain": [
       "          Country_name Country_code\n",
       "0          Afghanistan           AF\n",
       "1        Åland Islands           AX\n",
       "2              Albania           AL\n",
       "3              Algeria           DZ\n",
       "4       American Samoa           AS\n",
       "..                 ...          ...\n",
       "244  Wallis and Futuna           WF\n",
       "245     Western Sahara           EH\n",
       "246              Yemen           YE\n",
       "247             Zambia           ZM\n",
       "248           Zimbabwe           ZW\n",
       "\n",
       "[249 rows x 2 columns]"
      ]
     },
     "execution_count": 74,
     "metadata": {},
     "output_type": "execute_result"
    }
   ],
   "source": [
    "df_cities"
   ]
  },
  {
   "cell_type": "code",
   "execution_count": 76,
   "id": "b17b01da",
   "metadata": {},
   "outputs": [],
   "source": [
    "df_cities.to_csv('carbon_data/countries.csv')"
   ]
  },
  {
   "cell_type": "code",
   "execution_count": null,
   "id": "da7865e8",
   "metadata": {},
   "outputs": [],
   "source": []
  }
 ],
 "metadata": {
  "kernelspec": {
   "display_name": "Python 3 (ipykernel)",
   "language": "python",
   "name": "python3"
  },
  "language_info": {
   "codemirror_mode": {
    "name": "ipython",
    "version": 3
   },
   "file_extension": ".py",
   "mimetype": "text/x-python",
   "name": "python",
   "nbconvert_exporter": "python",
   "pygments_lexer": "ipython3",
   "version": "3.9.13"
  }
 },
 "nbformat": 4,
 "nbformat_minor": 5
}
